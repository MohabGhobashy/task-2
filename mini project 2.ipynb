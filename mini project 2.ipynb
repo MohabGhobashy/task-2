{
 "cells": [
  {
   "cell_type": "code",
   "execution_count": 44,
   "id": "2f316c58",
   "metadata": {
    "ExecuteTime": {
     "end_time": "2022-09-13T05:45:17.796739Z",
     "start_time": "2022-09-13T05:45:13.977473Z"
    }
   },
   "outputs": [
    {
     "name": "stdout",
     "output_type": "stream",
     "text": [
      "                         Name  Rank  Year  Rating\n",
      "0    The Shawshank Redemption     1  1994     9.2\n",
      "1               The Godfather     2  1972     9.2\n",
      "2             The Dark Knight     3  2008     9.0\n",
      "3       The Godfather Part II     4  1974     9.0\n",
      "4                12 Angry Men     5  1957     8.9\n",
      "..                        ...   ...   ...     ...\n",
      "245               Dersu Uzala   246  1975     8.0\n",
      "246                   Aladdin   247  1992     8.0\n",
      "247                    Gandhi   248  1982     8.0\n",
      "248                  The Help   249  2011     8.0\n",
      "249            The Iron Giant   250  1999     8.0\n",
      "\n",
      "[250 rows x 4 columns]\n"
     ]
    }
   ],
   "source": [
    "import requests\n",
    "from bs4 import BeautifulSoup\n",
    "import csv\n",
    "from itertools import zip_longest\n",
    "\n",
    "url='https://www.imdb.com/chart/top/'\n",
    "imdb=requests.get(url).text\n",
    "soup=BeautifulSoup(imdb,'lxml')\n",
    "Titles=[]\n",
    "Rank=[]\n",
    "Year=[]\n",
    "Rate=[]\n",
    "\n",
    "\n",
    "\n",
    "Films=soup.find_all('td',class_=\"titleColumn\")\n",
    "FilmsRating=soup.find_all('td',class_=\"ratingColumn imdbRating\")\n",
    "\n",
    "for i in range(0,len(Films)):\n",
    "    Titles.append(Films[i].a.text)\n",
    "    Rank.append(Films[i].text.split('.')[0].replace('\\n      ',''))\n",
    "    Year.append(Films[i].span.text.replace(\"(\",'').replace(\")\",''))\n",
    "    Rate.append(FilmsRating[i].strong.text)\n",
    "lists=[Titles,Rank,Year,Rate]\n",
    "Columns=zip_longest(*lists)\n",
    "with open(\"file.csv\",'w') as Data:\n",
    "    wr=csv.writer(Data)\n",
    "    wr.writerow([\"Name\",\"Rank\",\"Year\",\"Rating\"])\n",
    "    wr.writerows(Columns)\n",
    "import pandas as pd\n",
    "\n",
    "a = pd.read_csv('file.csv',encoding='latin-1')\n",
    "a.to_excel('file.xlsx')\n",
    "print(a)"
   ]
  },
  {
   "cell_type": "code",
   "execution_count": null,
   "id": "9f11265a",
   "metadata": {},
   "outputs": [],
   "source": []
  },
  {
   "cell_type": "code",
   "execution_count": null,
   "id": "910f470a",
   "metadata": {},
   "outputs": [],
   "source": []
  }
 ],
 "metadata": {
  "kernelspec": {
   "display_name": "Python 3 (ipykernel)",
   "language": "python",
   "name": "python3"
  },
  "language_info": {
   "codemirror_mode": {
    "name": "ipython",
    "version": 3
   },
   "file_extension": ".py",
   "mimetype": "text/x-python",
   "name": "python",
   "nbconvert_exporter": "python",
   "pygments_lexer": "ipython3",
   "version": "3.9.12"
  },
  "toc": {
   "base_numbering": 1,
   "nav_menu": {},
   "number_sections": true,
   "sideBar": true,
   "skip_h1_title": false,
   "title_cell": "Table of Contents",
   "title_sidebar": "Contents",
   "toc_cell": false,
   "toc_position": {},
   "toc_section_display": true,
   "toc_window_display": false
  }
 },
 "nbformat": 4,
 "nbformat_minor": 5
}
