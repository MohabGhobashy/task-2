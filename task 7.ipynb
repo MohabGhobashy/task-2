{
 "cells": [
  {
   "cell_type": "markdown",
   "id": "92ca9a7a",
   "metadata": {
    "ExecuteTime": {
     "end_time": "2022-08-28T13:36:57.455796Z",
     "start_time": "2022-08-28T13:36:57.447784Z"
    }
   },
   "source": [
    "<h1>Ternary search</h1>\n",
    "<p style=\"color:blue;\">Ternary search is a decrease(by constant) and conquer algorithm that can be used to find an element in an array. It is similar to binary search where we divide the array into two parts but in this algorithm, we divide the given array into three parts and determine which has the key (searched element). We can divide the array into three parts by taking mid1 and mid2 </p>\n",
    "<img src=\"https://cdn.codespeedy.com/wp-content/uploads/2019/09/ternary-search.jpg\">\n",
    "<p style=\"color:blue;\">It is same as the binary search. The only difference is that, it reduces the time complexity a bit more. Its time complexity is O(log n base 3) and that of binary search is O(log n base 2).\n",
    "\n",
    "</p>"
   ]
  },
  {
   "cell_type": "markdown",
   "id": "38010f6e",
   "metadata": {},
   "source": [
    "<h1> how to write clean code</h1><br>\n",
    "\n",
    "<li>Use Meaningful Names. ...</li>\n",
    "<li>Single Responsibility Principle (SRP) ...</li>\n",
    "<li>Avoid Writing Unnecessary Comments. ...</li>\n",
    "<li>Write Readable Code For People. ...</li>\n",
    "<li>Write Unit Tests. ...</li>\n",
    "<li>Be Careful With Dependencies. ...</li>\n",
    "<li>Make Your Project Well Organized</li>"
   ]
  },
  {
   "cell_type": "markdown",
   "id": "a6f43c1c",
   "metadata": {},
   "source": [
    "<h1>What’s a Design Pattern in Software Engineering?</h1>\n",
    "\n",
    "A software design pattern is a general, reusable solution of how to solve a common problem when designing an application or system. Unlike a library or framework, which can be inserted and used right away, a design pattern is more of a template to approach the problem at hand.\n",
    "\n",
    "Design patterns are used to support object-oriented programming (OOP), a paradigm that is based on the concepts of both objects (instances of a class; data with unique attributes) and classes (user-defined types of data)."
   ]
  },
  {
   "cell_type": "markdown",
   "id": "af93477e",
   "metadata": {
    "ExecuteTime": {
     "end_time": "2022-08-28T14:43:38.898000Z",
     "start_time": "2022-08-28T14:43:38.890013Z"
    }
   },
   "source": [
    "<h1> Agile and DevOps</h1>\n",
    "\n",
    "The key difference between Agile versus DevOps is that Agile is a philosophy about how to develop and deliver software, while DevOps describes how to continuously deploy code through the use of modern tools and automated processes.\n",
    "\n",
    "<h2>DevOps processes and tools</h2>\n",
    "\n",
    "<li> code repositories and version control, such as Git and GitHub;</li>\n",
    "<li> containerization and orchestration, such as Docker and Kubernetes;</li>\n",
    "<li> automatic and continuous code development and integration, including Jenkins and other tools;\n",
    "</li>\n",
    "<li> Kubernetes for orchestration;\n",
    "</li>\n",
    "<li> Static and dynamic code analysis;\n",
    "</li>\n",
    "<li> Configuration management and infrastructure as code, such as Chef, Puppet and Terraform;\n",
    "</li>\n",
    "<li> Public cloud platforms and services, including from AWS, Microsoft Azure and Google Cloud\n",
    "</li>"
   ]
  },
  {
   "cell_type": "markdown",
   "id": "86258d57",
   "metadata": {},
   "source": []
  }
 ],
 "metadata": {
  "kernelspec": {
   "display_name": "Python 3 (ipykernel)",
   "language": "python",
   "name": "python3"
  },
  "language_info": {
   "codemirror_mode": {
    "name": "ipython",
    "version": 3
   },
   "file_extension": ".py",
   "mimetype": "text/x-python",
   "name": "python",
   "nbconvert_exporter": "python",
   "pygments_lexer": "ipython3",
   "version": "3.9.12"
  },
  "toc": {
   "base_numbering": 1,
   "nav_menu": {},
   "number_sections": true,
   "sideBar": true,
   "skip_h1_title": false,
   "title_cell": "Table of Contents",
   "title_sidebar": "Contents",
   "toc_cell": false,
   "toc_position": {},
   "toc_section_display": true,
   "toc_window_display": false
  }
 },
 "nbformat": 4,
 "nbformat_minor": 5
}
