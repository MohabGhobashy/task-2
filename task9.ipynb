{
 "cells": [
  {
   "cell_type": "markdown",
   "id": "a0b32931",
   "metadata": {},
   "source": [
    "<h3>Different Software Architecture Patterns :</h3>\n",
    "\n",
    " <p style=\"color:red;\">Layered Pattern</p>\n",
    "  <p style=\"color:red;\">Client-Server Pattern</p>\n",
    "  <p style=\"color:red;\">Event-Driven Pattern</p>\n",
    "  <p style=\"color:red;\">Microkernel Pattern</p>\n",
    "  <p style=\"color:red;\">Microservices Pattern</p>\n",
    "\n",
    "<h3>1. Layered Pattern :</h3>\n",
    "\n",
    "- components(code) in this pattern are separated into layers of subtasks and they are arranged one above another.\n",
    "- *Ideal for:*  E-commerce web applications development like Amazon. \n",
    "\n",
    "<h3>2. Client-Server Pattern :</h3>\n",
    "\n",
    "- The client-server pattern has two major entities. They are a server and multiple clients. \n",
    "- Here the server has resources(data, files or services) and a client requests the server for a particular resource. Then the server processes the request and responds back accordingly.\n",
    "- *Ideal for:*  developing the kind of software listed in the examples.  \n",
    "\n",
    "<h3>3. Event-Driven Pattern :</h3>\n",
    "\n",
    "- Event-Driven Architecture is an agile approach in which services (operations) of the software are triggered by events. \n",
    "- *Ideal for:*  Building websites with JavaScript and e-commerce websites in general.\n",
    "\n",
    "<h3>4. Microkernel Pattern :</h3>\n",
    "\n",
    "Microkernel pattern has two major components. They are a core system and plug-in modules. \n",
    "   - The core system handles the fundamental and minimal operations of the application.\n",
    "   - The plug-in modules handle the extended functionalities (like extra features) and customized processing.\n",
    "\n",
    "- *ideal for:*  Product-based applications and scheduling applications. We love new features that keep giving dopamine boost to our brain. Such as Instagram reels, YouTube Shorts and a lot more that feasts us digitally. So this pattern is mostly preferred for app development.  \n",
    "\n",
    "<h3>5. Microservices Pattern :</h3>\n",
    "\n",
    "- The collection of small services that are combined to form the actual application is the concept of microservices pattern. Instead of building a bigger application, small programs are built for every service (function) of an application independently. And those small programs are bundled together to be a full-fledged application.  \n",
    "- *Example:* Netflix is one of the most popular examples of software built-in microservices architecture. This pattern is most suitable for websites and web apps having small components. "
   ]
  },
  {
   "cell_type": "markdown",
   "id": "67a18a76",
   "metadata": {},
   "source": [
    "<h3>What is Cron Job?</h3>\n",
    "\n",
    "A cron job is a Linux command used for scheduling tasks to be executed sometime in the future. This is normally used to schedule a job that is executed periodically – for example, to send out a notice every morning. Some scripts, such as Drupal and WHMCS may require you to set up cron jobs to perform certain functions.\n",
    "\n",
    "For most cron jobs, there are three components present:\n",
    "\n",
    "- The script that is to be called or executed.\n",
    " \n",
    "<img src=\"https://www.guru99.com/images/1/011720_0741_CrontabinLi1.png\">"
   ]
  },
  {
   "cell_type": "code",
   "execution_count": null,
   "id": "a18dd26a",
   "metadata": {},
   "outputs": [],
   "source": []
  }
 ],
 "metadata": {
  "kernelspec": {
   "display_name": "Python 3 (ipykernel)",
   "language": "python",
   "name": "python3"
  },
  "language_info": {
   "codemirror_mode": {
    "name": "ipython",
    "version": 3
   },
   "file_extension": ".py",
   "mimetype": "text/x-python",
   "name": "python",
   "nbconvert_exporter": "python",
   "pygments_lexer": "ipython3",
   "version": "3.9.12"
  },
  "toc": {
   "base_numbering": 1,
   "nav_menu": {},
   "number_sections": true,
   "sideBar": true,
   "skip_h1_title": false,
   "title_cell": "Table of Contents",
   "title_sidebar": "Contents",
   "toc_cell": false,
   "toc_position": {},
   "toc_section_display": true,
   "toc_window_display": false
  }
 },
 "nbformat": 4,
 "nbformat_minor": 5
}
