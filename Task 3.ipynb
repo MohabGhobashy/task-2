{
 "cells": [
  {
   "cell_type": "code",
   "execution_count": 28,
   "id": "21f236ab",
   "metadata": {
    "ExecuteTime": {
     "end_time": "2022-08-10T07:11:39.058147Z",
     "start_time": "2022-08-10T07:11:39.049268Z"
    }
   },
   "outputs": [
    {
     "data": {
      "text/plain": [
       "5040"
      ]
     },
     "execution_count": 28,
     "metadata": {},
     "output_type": "execute_result"
    }
   ],
   "source": [
    "# iterative factorial function\n",
    "def fact(x):\n",
    "    Fact=1\n",
    "    for i in range(1,x+1):\n",
    "      \n",
    "        Fact=Fact*i\n",
    "    return(Fact)  \n",
    "\n",
    "\n",
    "fact(7)    "
   ]
  },
  {
   "cell_type": "code",
   "execution_count": null,
   "id": "44184f70",
   "metadata": {},
   "outputs": [],
   "source": []
  },
  {
   "cell_type": "code",
   "execution_count": 35,
   "id": "dcef5e5a",
   "metadata": {
    "ExecuteTime": {
     "end_time": "2022-08-10T07:21:07.305082Z",
     "start_time": "2022-08-10T07:21:07.290274Z"
    }
   },
   "outputs": [
    {
     "data": {
      "text/plain": [
       "1"
      ]
     },
     "execution_count": 35,
     "metadata": {},
     "output_type": "execute_result"
    }
   ],
   "source": [
    "# recursive factorial function\n",
    "def fact(x):\n",
    "    \n",
    "    \n",
    "    Fact=1\n",
    "    if x>0:\n",
    "        Fact=fact(x-1)*x\n",
    "        \n",
    "    return Fact\n",
    "\n",
    "\n",
    "fact(0)"
   ]
  },
  {
   "cell_type": "code",
   "execution_count": 36,
   "id": "6d28fc06",
   "metadata": {
    "ExecuteTime": {
     "end_time": "2022-08-10T07:22:13.687520Z",
     "start_time": "2022-08-10T07:22:13.662265Z"
    }
   },
   "outputs": [],
   "source": [
    "class BSTNode:\n",
    "    def __init__(self, val=None):\n",
    "        self.left = None\n",
    "        self.right = None\n",
    "        self.val = val\n",
    "\n",
    "    def insert(self, val):\n",
    "        if not self.val:\n",
    "            self.val = val\n",
    "            return\n",
    "\n",
    "        if self.val == val:\n",
    "            return\n",
    "\n",
    "        if val < self.val:\n",
    "            if self.left:\n",
    "                self.left.insert(val)\n",
    "                return\n",
    "            self.left = BSTNode(val)\n",
    "            return\n",
    "\n",
    "        if self.right:\n",
    "            self.right.insert(val)\n",
    "            return\n",
    "        self.right = BSTNode(val)\n",
    "\n",
    "    def get_min(self):\n",
    "        current = self\n",
    "        while current.left is not None:\n",
    "            current = current.left\n",
    "        return current.val\n",
    "\n",
    "    def get_max(self):\n",
    "        current = self\n",
    "        while current.right is not None:\n",
    "            current = current.right\n",
    "        return current.val\n",
    "\n",
    "    def delete(self, val):\n",
    "        if self == None:\n",
    "            return self\n",
    "        if val < self.val:\n",
    "            if self.left:\n",
    "                self.left = self.left.delete(val)\n",
    "            return self\n",
    "        if val > self.val:\n",
    "            if self.right:\n",
    "                self.right = self.right.delete(val)\n",
    "            return self\n",
    "        if self.right == None:\n",
    "            return self.left\n",
    "        if self.left == None:\n",
    "            return self.right\n",
    "        min_larger_node = self.right\n",
    "        while min_larger_node.left:\n",
    "            min_larger_node = min_larger_node.left\n",
    "        self.val = min_larger_node.val\n",
    "        self.right = self.right.delete(min_larger_node.val)\n",
    "        return self\n",
    "\n",
    "    def exists(self, val):\n",
    "        if val == self.val:\n",
    "            return True\n",
    "\n",
    "        if val < self.val:\n",
    "            if self.left == None:\n",
    "                return False\n",
    "            return self.left.exists(val)\n",
    "\n",
    "        if self.right == None:\n",
    "            return False\n",
    "        return self.right.exists(val)\n",
    "\n",
    "    def preorder(self, vals):\n",
    "        if self.val is not None:\n",
    "            vals.append(self.val)\n",
    "        if self.left is not None:\n",
    "            self.left.preorder(vals)\n",
    "        if self.right is not None:\n",
    "            self.right.preorder(vals)\n",
    "        return vals\n",
    "\n",
    "    def inorder(self, vals):\n",
    "        if self.left is not None:\n",
    "            self.left.inorder(vals)\n",
    "        if self.val is not None:\n",
    "            vals.append(self.val)\n",
    "        if self.right is not None:\n",
    "            self.right.inorder(vals)\n",
    "        return vals\n",
    "\n",
    "    def postorder(self, vals):\n",
    "        if self.left is not None:\n",
    "            self.left.postorder(vals)\n",
    "        if self.right is not None:\n",
    "            self.right.postorder(vals)\n",
    "        if self.val is not None:\n",
    "            vals.append(self.val)\n",
    "        return vals"
   ]
  },
  {
   "cell_type": "code",
   "execution_count": 45,
   "id": "8714ceb2",
   "metadata": {
    "ExecuteTime": {
     "end_time": "2022-08-10T07:27:11.535239Z",
     "start_time": "2022-08-10T07:27:11.517404Z"
    }
   },
   "outputs": [
    {
     "data": {
      "text/plain": [
       "False"
      ]
     },
     "execution_count": 45,
     "metadata": {},
     "output_type": "execute_result"
    }
   ],
   "source": [
    "tree1=BSTNode()\n",
    "tree1.insert(5)\n",
    "tree1.insert(4)\n",
    "tree1.insert(3)\n",
    "tree1.insert(2)   \n",
    "tree1.exists(1)"
   ]
  },
  {
   "cell_type": "code",
   "execution_count": null,
   "id": "b50a6c75",
   "metadata": {},
   "outputs": [],
   "source": []
  }
 ],
 "metadata": {
  "kernelspec": {
   "display_name": "Python 3 (ipykernel)",
   "language": "python",
   "name": "python3"
  },
  "language_info": {
   "codemirror_mode": {
    "name": "ipython",
    "version": 3
   },
   "file_extension": ".py",
   "mimetype": "text/x-python",
   "name": "python",
   "nbconvert_exporter": "python",
   "pygments_lexer": "ipython3",
   "version": "3.9.12"
  },
  "toc": {
   "base_numbering": 1,
   "nav_menu": {},
   "number_sections": true,
   "sideBar": true,
   "skip_h1_title": false,
   "title_cell": "Table of Contents",
   "title_sidebar": "Contents",
   "toc_cell": false,
   "toc_position": {},
   "toc_section_display": true,
   "toc_window_display": false
  }
 },
 "nbformat": 4,
 "nbformat_minor": 5
}
