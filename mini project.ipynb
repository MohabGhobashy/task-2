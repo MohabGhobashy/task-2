{
 "cells": [
  {
   "cell_type": "code",
   "execution_count": 48,
   "id": "2bfd0035",
   "metadata": {
    "ExecuteTime": {
     "end_time": "2022-08-28T13:02:14.768172Z",
     "start_time": "2022-08-28T13:02:14.745176Z"
    }
   },
   "outputs": [],
   "source": [
    "\n",
    "\n",
    "\n",
    "class OnlineLibrary:\n",
    "    \n",
    "   \n",
    "    Availablebooks=[\"Book1\", \"Book2\",\"Book3\",\"Book4\",\"Book5\",\"Book6\",\"Book7\",\"Book8\"]\n",
    "   \n",
    "    def  __init__(self):\n",
    "        print(\"Welcome to our library \")\n",
    "        self.name=input(\"Enter ur name :\")\n",
    "        self.password=input(\"Enter ur password :\")\n",
    "       \n",
    "        print(\"ur id is :\",id(self)) #id function generate um=nique value for id \n",
    "        self.LentBooks=list()\n",
    "    def DisplayBooks(self):\n",
    "        ps=input(\"Enter ur password to display books : \")\n",
    "        if ps==self.password:\n",
    "            \n",
    "            \n",
    "            print(self.Availablebooks)\n",
    "\n",
    "        else:\n",
    "            print(\"wrong password\")\n",
    "    def LendBook(self,book):\n",
    "        ps=input(\"Enter ur password to lend the book:\")\n",
    "        if ps==self.password:\n",
    "            \n",
    "            if book in self.Availablebooks:\n",
    "                self.Availablebooks.remove(book)\n",
    "                self.LentBooks.append(book)\n",
    "            else:\n",
    "                print(\"there is no book with this name\")\n",
    "        else:\n",
    "            print(\"wrong password\")\n",
    "    def AddBook(self,Book):\n",
    "        ps=input(\"Enter ur password to add the book :\")\n",
    "        if ps==self.password:\n",
    "            if Book in self.Availablebooks:\n",
    "                \n",
    "                print(\" Already Found !\")\n",
    "            else:\n",
    "                self.Availablebooks.append(Book)\n",
    "                print=(\"ur book is added\")\n",
    "                self.DisplayBooks()\n",
    "        else:\n",
    "            print(\"wrong password\")\n",
    "        \n",
    "        \n",
    "    def ReturnBook(self,book1):\n",
    "        ps=input(\"Enter ur password to return the book :\")\n",
    "        if ps==self.password:\n",
    "            if book1 in self.LentBooks:\n",
    "                self.LentBooks.remove(book1)\n",
    "                self.Availablebooks.append(book1)\n",
    "            else:\n",
    "                print(\"there is no lent book with this name\")\n",
    "        else:\n",
    "            print(\"wrong password\")\n",
    "\n",
    "    def DisplayLentBooks(self):\n",
    "        \n",
    "        ps=input(\"Enter ur password to display books : \")\n",
    "        if ps==self.password:\n",
    "            if len(self.LentBooks)==0:\n",
    "                print(\"there are no lent books\")\n",
    "            else:\n",
    "                print(\"lent books are :\",self.LentBooks)\n",
    "        else:\n",
    "            print(\"wrong password\")\n",
    "\n"
   ]
  },
  {
   "cell_type": "code",
   "execution_count": 21,
   "id": "bb432cd1",
   "metadata": {
    "ExecuteTime": {
     "end_time": "2022-08-28T12:45:22.472415Z",
     "start_time": "2022-08-28T12:45:16.110567Z"
    }
   },
   "outputs": [
    {
     "name": "stdout",
     "output_type": "stream",
     "text": [
      "Welcome to our library \n",
      "Enter ur name :mohab\n",
      "Enter ur password :123\n",
      "ur id is : 2423562211776\n"
     ]
    }
   ],
   "source": [
    "mohab=OnlineLibrary()"
   ]
  },
  {
   "cell_type": "code",
   "execution_count": 28,
   "id": "85db583a",
   "metadata": {
    "ExecuteTime": {
     "end_time": "2022-08-28T12:49:58.471907Z",
     "start_time": "2022-08-28T12:49:51.879248Z"
    }
   },
   "outputs": [
    {
     "name": "stdout",
     "output_type": "stream",
     "text": [
      "Enter ur password to add the book :123\n",
      "Enter ur password to display books : 123\n",
      "['Book1', 'Book2', 'Book3', 'Book4', 'Book5', 'Book6', 'Book7', 'Book8', 'Instant notes']\n"
     ]
    }
   ],
   "source": [
    "mohab.AddBook(\"Instant notes\")"
   ]
  },
  {
   "cell_type": "code",
   "execution_count": 29,
   "id": "dfcee4b8",
   "metadata": {
    "ExecuteTime": {
     "end_time": "2022-08-28T12:50:26.880436Z",
     "start_time": "2022-08-28T12:50:24.357915Z"
    }
   },
   "outputs": [
    {
     "name": "stdout",
     "output_type": "stream",
     "text": [
      "Enter ur password to lend the book:123\n"
     ]
    }
   ],
   "source": [
    "mohab.LendBook(\"Instant notes\")"
   ]
  },
  {
   "cell_type": "code",
   "execution_count": 38,
   "id": "6a23292d",
   "metadata": {
    "ExecuteTime": {
     "end_time": "2022-08-28T12:54:37.018489Z",
     "start_time": "2022-08-28T12:54:34.639530Z"
    }
   },
   "outputs": [
    {
     "name": "stdout",
     "output_type": "stream",
     "text": [
      "Enter ur password to display books : 123\n",
      "['Book1', 'Book2', 'Book3', 'Book4', 'Book5', 'Book6', 'Book7', 'Book8']\n"
     ]
    }
   ],
   "source": [
    "mohab.DisplayBooks()"
   ]
  },
  {
   "cell_type": "code",
   "execution_count": 40,
   "id": "1dad1156",
   "metadata": {
    "ExecuteTime": {
     "end_time": "2022-08-28T12:56:13.286237Z",
     "start_time": "2022-08-28T12:56:08.327537Z"
    }
   },
   "outputs": [
    {
     "name": "stdout",
     "output_type": "stream",
     "text": [
      "Enter ur password to return the book :123\n"
     ]
    }
   ],
   "source": [
    "mohab.ReturnBook(\"Instant notes\")"
   ]
  },
  {
   "cell_type": "code",
   "execution_count": 41,
   "id": "f0837904",
   "metadata": {
    "ExecuteTime": {
     "end_time": "2022-08-28T12:56:26.612708Z",
     "start_time": "2022-08-28T12:56:24.940861Z"
    }
   },
   "outputs": [
    {
     "name": "stdout",
     "output_type": "stream",
     "text": [
      "Enter ur password to display books : 123\n",
      "['Book1', 'Book2', 'Book3', 'Book4', 'Book5', 'Book6', 'Book7', 'Book8', 'Instant notes']\n"
     ]
    }
   ],
   "source": [
    "mohab.DisplayBooks()"
   ]
  },
  {
   "cell_type": "code",
   "execution_count": 42,
   "id": "56901338",
   "metadata": {
    "ExecuteTime": {
     "end_time": "2022-08-28T12:56:56.476841Z",
     "start_time": "2022-08-28T12:56:50.767208Z"
    }
   },
   "outputs": [
    {
     "name": "stdout",
     "output_type": "stream",
     "text": [
      "Welcome to our library \n",
      "Enter ur name :ali\n",
      "Enter ur password :123\n",
      "ur id is : 2423541034096\n"
     ]
    }
   ],
   "source": [
    "ali=OnlineLibrary()"
   ]
  },
  {
   "cell_type": "code",
   "execution_count": 43,
   "id": "1b692b2f",
   "metadata": {
    "ExecuteTime": {
     "end_time": "2022-08-28T12:57:20.255021Z",
     "start_time": "2022-08-28T12:57:18.392245Z"
    }
   },
   "outputs": [
    {
     "name": "stdout",
     "output_type": "stream",
     "text": [
      "Enter ur password to lend the book:123\n"
     ]
    }
   ],
   "source": [
    "ali.LendBook(\"Book1\")"
   ]
  },
  {
   "cell_type": "code",
   "execution_count": 44,
   "id": "78c860f1",
   "metadata": {
    "ExecuteTime": {
     "end_time": "2022-08-28T12:57:42.766968Z",
     "start_time": "2022-08-28T12:57:40.974528Z"
    }
   },
   "outputs": [
    {
     "name": "stdout",
     "output_type": "stream",
     "text": [
      "Enter ur password to display books : 123\n",
      "['Book2', 'Book3', 'Book4', 'Book5', 'Book6', 'Book7', 'Book8']\n"
     ]
    }
   ],
   "source": [
    "ali.DisplayBooks()"
   ]
  },
  {
   "cell_type": "code",
   "execution_count": 45,
   "id": "e7eba821",
   "metadata": {
    "ExecuteTime": {
     "end_time": "2022-08-28T12:57:57.294874Z",
     "start_time": "2022-08-28T12:57:54.976715Z"
    }
   },
   "outputs": [
    {
     "name": "stdout",
     "output_type": "stream",
     "text": [
      "Enter ur password to display books : 123\n",
      "['Book1']\n"
     ]
    }
   ],
   "source": [
    "ali.DisplayLentBooks()"
   ]
  },
  {
   "cell_type": "code",
   "execution_count": 46,
   "id": "c99c041b",
   "metadata": {
    "ExecuteTime": {
     "end_time": "2022-08-28T12:58:22.519937Z",
     "start_time": "2022-08-28T12:58:19.441747Z"
    }
   },
   "outputs": [
    {
     "name": "stdout",
     "output_type": "stream",
     "text": [
      "Enter ur password to return the book :123\n"
     ]
    }
   ],
   "source": [
    "ali.ReturnBook(\"Book1\")"
   ]
  },
  {
   "cell_type": "code",
   "execution_count": 51,
   "id": "6da97473",
   "metadata": {
    "ExecuteTime": {
     "end_time": "2022-08-28T13:03:14.707282Z",
     "start_time": "2022-08-28T13:03:12.542534Z"
    }
   },
   "outputs": [
    {
     "name": "stdout",
     "output_type": "stream",
     "text": [
      "Enter ur password to display books : 123\n",
      "['Book2', 'Book3', 'Book4', 'Book5', 'Book6', 'Book7', 'Book8', 'Book1']\n"
     ]
    }
   ],
   "source": [
    "ali.DisplayBooks()"
   ]
  },
  {
   "cell_type": "code",
   "execution_count": 52,
   "id": "c7ae6f50",
   "metadata": {
    "ExecuteTime": {
     "end_time": "2022-08-28T13:03:46.342709Z",
     "start_time": "2022-08-28T13:03:41.370409Z"
    }
   },
   "outputs": [
    {
     "name": "stdout",
     "output_type": "stream",
     "text": [
      "Welcome to our library \n",
      "Enter ur name :leoo\n",
      "Enter ur password :123\n",
      "ur id is : 2423568681712\n"
     ]
    }
   ],
   "source": [
    "leo=OnlineLibrary()"
   ]
  },
  {
   "cell_type": "code",
   "execution_count": 53,
   "id": "890848b4",
   "metadata": {
    "ExecuteTime": {
     "end_time": "2022-08-28T13:04:03.747747Z",
     "start_time": "2022-08-28T13:04:02.010954Z"
    }
   },
   "outputs": [
    {
     "name": "stdout",
     "output_type": "stream",
     "text": [
      "Enter ur password to display books : 123\n",
      "there are no lent books\n"
     ]
    }
   ],
   "source": [
    "leo.DisplayLentBooks()"
   ]
  },
  {
   "cell_type": "code",
   "execution_count": null,
   "id": "f77f7a90",
   "metadata": {},
   "outputs": [],
   "source": []
  }
 ],
 "metadata": {
  "kernelspec": {
   "display_name": "Python 3 (ipykernel)",
   "language": "python",
   "name": "python3"
  },
  "language_info": {
   "codemirror_mode": {
    "name": "ipython",
    "version": 3
   },
   "file_extension": ".py",
   "mimetype": "text/x-python",
   "name": "python",
   "nbconvert_exporter": "python",
   "pygments_lexer": "ipython3",
   "version": "3.9.12"
  },
  "toc": {
   "base_numbering": 1,
   "nav_menu": {},
   "number_sections": true,
   "sideBar": true,
   "skip_h1_title": false,
   "title_cell": "Table of Contents",
   "title_sidebar": "Contents",
   "toc_cell": false,
   "toc_position": {},
   "toc_section_display": true,
   "toc_window_display": false
  }
 },
 "nbformat": 4,
 "nbformat_minor": 5
}
