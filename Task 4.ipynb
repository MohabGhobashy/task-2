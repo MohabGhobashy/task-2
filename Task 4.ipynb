{
 "cells": [
  {
   "cell_type": "code",
   "execution_count": 3,
   "id": "6290df9f",
   "metadata": {
    "ExecuteTime": {
     "end_time": "2022-08-14T05:10:48.503188Z",
     "start_time": "2022-08-14T05:10:48.498200Z"
    }
   },
   "outputs": [
    {
     "name": "stdout",
     "output_type": "stream",
     "text": [
      "[('age', 21), ('favourite song', 'Never surrender'), ('name', 'mohab mohamed ali'), ('unviersity', 'cairo univeristy')]\n"
     ]
    }
   ],
   "source": [
    "#problem 1 :sorting dict by keys\n",
    "mohab=dict()\n",
    "mohab={\"age\":21,\"name\":\"mohab mohamed ali\",\"favourite song\":\"Never surrender\",\"unviersity\":\"cairo univeristy\"}\n",
    "pairs=mohab.items() #we convert dict to pairs (key,value)\n",
    "Sortedpair=sorted(pairs)\n",
    "print(Sortedpair)"
   ]
  },
  {
   "cell_type": "code",
   "execution_count": null,
   "id": "17a03f83",
   "metadata": {},
   "outputs": [],
   "source": []
  },
  {
   "cell_type": "markdown",
   "id": "137fa70a",
   "metadata": {},
   "source": [
    "<p style=\"  display: block;font-size: 2em;margin-top: 0.67em; margin-bottom: 0.67em; margin-left: 0; margin-right: 0;font-weight: bold;\"> problem 2 :comparison betwen adjacency matrix and list </h1>\n",
    "<h1>adjacency matrix</h1>\n",
    "<p style=\"color:red; font-family:Times New Roman; font-size:17px; \">An Adjacency list is an array consisting of the address of all the linked lists. The first node of the linked list represents the vertex and the remaining lists connected to this node represents the vertices to which this node is connected. This representation can also be used to represent a weighted graph. The linked list can slightly be changed to even store the weight of the edge.</p>\n",
    "<img src=\"https://media.geeksforgeeks.org/wp-content/uploads/20200609204115/matrix.png\">\n",
    "<h1>adjacency list</h1>\n",
    "<p style=\"color:blue; font-family:Times New Roman; font-size:17px;\"> Adjacency Matrix is a 2D array of size V x V where V is the number of vertices in a graph. Let the 2D array be adj[][], a slot adj[i][j] = 1 indicates that there is an edge from vertex i to vertex j. Adjacency matrix for undirected graph is always symmetric. Adjacency Matrix is also used to represent weighted graphs. If adj[i][j] = w, then there is an edge from vertex i to vertex j with weight w.</p>\n",
    "<img src=\"https://media.geeksforgeeks.org/wp-content/uploads/20200609204414/linklist.png\">"
   ]
  },
  {
   "cell_type": "markdown",
   "id": "3e56ff41",
   "metadata": {},
   "source": [
    "<p style=\"  display: block;font-size: 2em;margin-top: 0.67em; margin-bottom: 0.67em; margin-left: 0; margin-right: 0;font-weight: bold;\"> problem 3 :comparison betwen bfs matrix and dfs </h1>\n",
    "<h1>DFS</h1>\n",
    "<p style=\"color:red; font-family:Times New Roman; font-size:17px; \">Depth First Search (DFS) algorithm traverses a graph in a depthward motion and uses a stack to remember to get the next vertex to start a search when a dead end occurs in any iteration.</p>\n",
    "<img src=\"https://www.tutorialspoint.com/data_structures_algorithms/images/depth_first_traversal.jpg\">\n",
    "<h1>BFS</h1>\n",
    "<p style=\"color:blue; font-family:Times New Roman; font-size:17px;\">Breadth First Search (BFS) algorithm traverses a graph in a breadthward motion and uses a queue to remember to get the next vertex to start a search when a dead end occurs in any iteration.</p>\n",
    "<img src=\"https://www.tutorialspoint.com/data_structures_algorithms/images/breadth_first_traversal.jpg\">"
   ]
  },
  {
   "cell_type": "code",
   "execution_count": 5,
   "id": "d8eea607",
   "metadata": {
    "ExecuteTime": {
     "end_time": "2022-08-14T06:00:54.620445Z",
     "start_time": "2022-08-14T06:00:54.603222Z"
    }
   },
   "outputs": [
    {
     "name": "stdout",
     "output_type": "stream",
     "text": [
      "1\n",
      "3\n",
      "4\n",
      "5\n",
      "6\n"
     ]
    }
   ],
   "source": [
    "#problem 4 :use ur own library\n",
    "import Cringylib as lib #library has function to print list elements \n",
    "mohab=[1,3,4,5,6]\n",
    "lib.printList(mohab)"
   ]
  },
  {
   "cell_type": "code",
   "execution_count": 22,
   "id": "5fa31364",
   "metadata": {
    "ExecuteTime": {
     "end_time": "2022-08-14T06:26:41.128635Z",
     "start_time": "2022-08-14T06:26:34.243881Z"
    }
   },
   "outputs": [
    {
     "name": "stdout",
     "output_type": "stream",
     "text": [
      "Enter the number of inputs u want to push in stack :3\n",
      "Enter your input :0\n",
      "not valid value\n",
      "Enter your input :3\n",
      "Enter your input :2\n",
      "the size of ur stack is 2\n"
     ]
    }
   ],
   "source": [
    "#problem 5 :make function to take inputs from user and put it on stack\n",
    "from queue import LifoQueue as stack\n",
    "def Stackinput():\n",
    "    Mystack=stack()\n",
    "    n=int(input(\"Enter the number of inputs u want to push in stack :\"))\n",
    "    for i in range(0,n):\n",
    "        f=int(input(\"Enter your input :\"))\n",
    "        if f==0:\n",
    "            print(\"not valid value\")\n",
    "        \n",
    "        else:\n",
    "            \n",
    "            Mystack.put(f)\n",
    "        \n",
    "    return Mystack\n",
    "testStack=stack()  \n",
    "testStack=Stackinput()\n",
    "print(\"the size of ur stack is\",testStack.qsize())\n"
   ]
  },
  {
   "cell_type": "code",
   "execution_count": 11,
   "id": "4a5c2059",
   "metadata": {
    "ExecuteTime": {
     "end_time": "2022-08-14T12:03:34.739996Z",
     "start_time": "2022-08-14T12:03:34.721533Z"
    }
   },
   "outputs": [
    {
     "name": "stdout",
     "output_type": "stream",
     "text": [
      "unordered set is : {1, -18, 15, 18, 51, -5}\n",
      "multiset is : {18, 1, 1}\n"
     ]
    }
   ],
   "source": [
    "#problem 6 : implement unordered set & multiset\n",
    "\n",
    "#unordered\n",
    "unorderdSet=set()\n",
    "unorderdSet.add(1)\n",
    "unorderdSet.add(18)\n",
    "unorderdSet.add(15)\n",
    "unorderdSet.add(51) \n",
    "unorderdSet.add(51)    \n",
    "unorderdSet.add(-18)  \n",
    "unorderdSet.add(-5)    \n",
    "\n",
    "print(\"unordered set is :\",unorderdSet)\n",
    "\n",
    "#multiset\n",
    "from multiset import *\n",
    "mohab=Multiset()\n",
    "mohab.add(18)\n",
    "mohab.add(1)\n",
    "mohab.add(1)\n",
    "print(\"multiset is :\",mohab)\n"
   ]
  },
  {
   "cell_type": "code",
   "execution_count": null,
   "id": "ab16a274",
   "metadata": {},
   "outputs": [],
   "source": []
  },
  {
   "cell_type": "code",
   "execution_count": null,
   "id": "366f53cf",
   "metadata": {},
   "outputs": [],
   "source": []
  }
 ],
 "metadata": {
  "kernelspec": {
   "display_name": "Python 3 (ipykernel)",
   "language": "python",
   "name": "python3"
  },
  "language_info": {
   "codemirror_mode": {
    "name": "ipython",
    "version": 3
   },
   "file_extension": ".py",
   "mimetype": "text/x-python",
   "name": "python",
   "nbconvert_exporter": "python",
   "pygments_lexer": "ipython3",
   "version": "3.9.12"
  },
  "toc": {
   "base_numbering": 1,
   "nav_menu": {},
   "number_sections": true,
   "sideBar": true,
   "skip_h1_title": false,
   "title_cell": "Table of Contents",
   "title_sidebar": "Contents",
   "toc_cell": false,
   "toc_position": {},
   "toc_section_display": true,
   "toc_window_display": false
  }
 },
 "nbformat": 4,
 "nbformat_minor": 5
}
