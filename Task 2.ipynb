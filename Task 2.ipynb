{
 "cells": [
  {
   "cell_type": "code",
   "execution_count": 1,
   "id": "82ebc0c1",
   "metadata": {
    "ExecuteTime": {
     "end_time": "2022-08-07T10:45:53.510059Z",
     "start_time": "2022-08-07T10:45:53.487950Z"
    }
   },
   "outputs": [
    {
     "name": "stdout",
     "output_type": "stream",
     "text": [
      "1505\n",
      "1540\n",
      "1575\n",
      "1610\n",
      "1645\n",
      "1680\n",
      "1715\n",
      "1750\n",
      "1785\n",
      "1820\n",
      "1855\n",
      "1890\n",
      "1925\n",
      "1960\n",
      "1995\n",
      "2030\n",
      "2065\n",
      "2100\n",
      "2135\n",
      "2170\n",
      "2205\n",
      "2240\n",
      "2275\n",
      "2310\n",
      "2345\n",
      "2380\n",
      "2415\n",
      "2450\n",
      "2485\n",
      "2520\n",
      "2555\n",
      "2590\n",
      "2625\n",
      "2660\n",
      "2695\n"
     ]
    }
   ],
   "source": [
    "#problem 1 \n",
    "for i in range(1500,2700):\n",
    "    if i%7==0 and i%5==0:\n",
    "        print(i)"
   ]
  },
  {
   "cell_type": "code",
   "execution_count": null,
   "id": "1a99f1da",
   "metadata": {
    "ExecuteTime": {
     "start_time": "2022-08-07T10:45:53.487Z"
    }
   },
   "outputs": [],
   "source": [
    "#problem 2\n",
    "convertType=str(input(\"select which unit u want to covert to C or F  :\",))\n",
    "if convertType==\"F\":\n",
    "    temp1=int(input(\"Enter temp with celecious :\",))\n",
    "    f=(32/9)+temp1/5\n",
    "    print(\"Temperature is :\",f,\"f\")\n",
    "elif convertType==\"C\":\n",
    "        temp2=int(input(\"Enter temp with fernhiet :\",))\n",
    "        c=5*(temp2-(32/9))\n",
    "        print(\"Temperature is :\",c,\"c\")\n",
    "else:\n",
    "    print(\"Enter valid input\")\n",
    "    \n",
    "    "
   ]
  },
  {
   "cell_type": "code",
   "execution_count": null,
   "id": "cdf2872c",
   "metadata": {
    "ExecuteTime": {
     "start_time": "2022-08-07T10:45:53.488Z"
    }
   },
   "outputs": [],
   "source": [
    "#problem 3\n",
    "\n",
    "for i in range(0,5):\n",
    "    for i in range(0,i+1):\n",
    "        print(\"* \",end=\"\")\n",
    "    print()    \n",
    "for i in range(5,0,-1):\n",
    "    for i in range(0,i-1):\n",
    "        print(\"* \",end=\"\")\n",
    "    print()    "
   ]
  },
  {
   "cell_type": "code",
   "execution_count": null,
   "id": "35234cda",
   "metadata": {
    "ExecuteTime": {
     "start_time": "2022-08-07T10:45:53.489Z"
    }
   },
   "outputs": [],
   "source": [
    "#problem 4\n",
    "word=str(input(\"Enter word u want to reverse :\"))\n",
    "wordLenghth=len(word)\n",
    "rev=word[wordLenghth::-1]\n",
    "print(rev)\n",
    "##another way\n",
    "word=str(input(\"Enter word u want to reverse :\"))\n",
    "wordLenghth=len(word)\n",
    "revlist=[]\n",
    "while wordLenghth>0:\n",
    "    revlist.append(word[wordLenghth-1])\n",
    "    wordLenghth=wordLenghth-1\n",
    "for i in range(0,len(revlist)):\n",
    "    print (revlist[i],end=\"\")\n"
   ]
  },
  {
   "cell_type": "code",
   "execution_count": null,
   "id": "3263f204",
   "metadata": {
    "ExecuteTime": {
     "start_time": "2022-08-07T10:45:53.490Z"
    }
   },
   "outputs": [],
   "source": [
    "#problem 5\n",
    "def maxvalue(n1,n2,n3):\n",
    "    if n1>n2 & n1>n3:\n",
    "        return n3\n",
    "    if n2>n1 & n2>n3:\n",
    "        return n2\n",
    "    else:\n",
    "        return n1      \n",
    "maxvalue(60,20,40)\n"
   ]
  },
  {
   "cell_type": "code",
   "execution_count": null,
   "id": "80e5b67d",
   "metadata": {
    "ExecuteTime": {
     "start_time": "2022-08-07T10:45:53.491Z"
    }
   },
   "outputs": [],
   "source": [
    "#problem 6\n",
    "def sum(sum1=[]):\n",
    "    thesum=0\n",
    "    for i in range(len(sum1)):\n",
    "        thesum=thesum+sum1[i]\n",
    "    return thesum  \n",
    "    \n",
    "Sumlist=[]\n",
    "n=int(input(\"Enter lenght of the list\"))\n",
    "for i in range(n):\n",
    "    Sumlist.append(int(input(\"Enter list elemnts : \")))\n",
    "    \n",
    "sum(Sumlist)"
   ]
  },
  {
   "cell_type": "code",
   "execution_count": null,
   "id": "c9c45059",
   "metadata": {
    "ExecuteTime": {
     "start_time": "2022-08-07T10:45:53.492Z"
    }
   },
   "outputs": [],
   "source": [
    "#problem 7\n",
    "for i in range(0,6):\n",
    "    if i==3 or i==6:\n",
    "        continue\n",
    "    print(i)    \n"
   ]
  },
  {
   "cell_type": "code",
   "execution_count": null,
   "id": "bffeb7e3",
   "metadata": {
    "ExecuteTime": {
     "start_time": "2022-08-07T10:45:53.493Z"
    }
   },
   "outputs": [],
   "source": [
    "#problem 8\n",
    "def Fact(n):\n",
    "    if n==0 or n==1:\n",
    "        return 1\n",
    "    else:\n",
    "        factorial=1\n",
    "        for i in range(1,n+1):\n",
    "            factorial=factorial*i\n",
    "    return factorial   \n",
    " \n",
    "Fact(0)        "
   ]
  },
  {
   "cell_type": "code",
   "execution_count": null,
   "id": "79170975",
   "metadata": {
    "ExecuteTime": {
     "start_time": "2022-08-07T10:45:53.495Z"
    }
   },
   "outputs": [],
   "source": [
    "#problem 9\n",
    "def conv(s=[]):\n",
    "    s1=set(s)\n",
    "    return s1\n",
    "list1=[\"ali\",\"mohab\",\"ali\",\"suiii\"]\n",
    "print(conv(list1))"
   ]
  },
  {
   "cell_type": "code",
   "execution_count": null,
   "id": "57a0be14",
   "metadata": {
    "ExecuteTime": {
     "start_time": "2022-08-07T10:45:53.496Z"
    }
   },
   "outputs": [],
   "source": [
    "#problem 10\n",
    "z=lambda n:n+15\n",
    "print(z(10))\n",
    "result=lambda x,y:x*y\n",
    "print(result(2,4))"
   ]
  },
  {
   "cell_type": "code",
   "execution_count": null,
   "id": "55a40806",
   "metadata": {},
   "outputs": [],
   "source": []
  }
 ],
 "metadata": {
  "kernelspec": {
   "display_name": "Python 3 (ipykernel)",
   "language": "python",
   "name": "python3"
  },
  "language_info": {
   "codemirror_mode": {
    "name": "ipython",
    "version": 3
   },
   "file_extension": ".py",
   "mimetype": "text/x-python",
   "name": "python",
   "nbconvert_exporter": "python",
   "pygments_lexer": "ipython3",
   "version": "3.9.12"
  },
  "toc": {
   "base_numbering": 1,
   "nav_menu": {},
   "number_sections": true,
   "sideBar": true,
   "skip_h1_title": false,
   "title_cell": "Table of Contents",
   "title_sidebar": "Contents",
   "toc_cell": false,
   "toc_position": {},
   "toc_section_display": true,
   "toc_window_display": false
  }
 },
 "nbformat": 4,
 "nbformat_minor": 5
}
