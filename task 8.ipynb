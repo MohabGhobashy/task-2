{
 "cells": [
  {
   "cell_type": "code",
   "execution_count": 135,
   "id": "e3aac1e7",
   "metadata": {
    "ExecuteTime": {
     "end_time": "2022-08-31T15:33:50.877084Z",
     "start_time": "2022-08-31T15:33:50.856945Z"
    },
    "scrolled": true
   },
   "outputs": [
    {
     "name": "stdout",
     "output_type": "stream",
     "text": [
      "['mohabghob@gmail.com', 'ali.ghob@gmail.com', 'mohab@yahoo.com']\n",
      "['01025845579', '01025845530', '01025867538', '01025845532', '01525845530', '01025252230', '01225845534', '01023235530', '01125383533']\n",
      "['mohab ghobashy', 'ali ghobashy', 'lionel messi', 'jack greakish', 'kevin Debruyne', 'Martin odegard', 'erling haland', 'mohab ali']\n"
     ]
    }
   ],
   "source": [
    "import re\n",
    "\n",
    "file= open(\"text.txt\",\"r\")\n",
    "fa=file.read() #reading my text file\n",
    "\n",
    "#email \n",
    "patternEmail=re.compile(r\"[0-9a-zA-z\\.]+@[a-z]+\\.[a-z]{3}\")\n",
    "emails=[]\n",
    "matches1=patternEmail.finditer(fa)\n",
    "for match in matches1:\n",
    "    \n",
    "    emails.append(match.group())\n",
    "    \n",
    "print(emails)\n",
    "#phone\n",
    "patternMobile=re.compile(r\"01[0125]+\\d{8}\")\n",
    "matches2=patternMobile.finditer(fa)\n",
    "mobiles=[]\n",
    "\n",
    "for match in matches2:\n",
    "    mobiles.append(match.group())\n",
    "print(mobiles)    \n",
    "#namee\n",
    "PatternName=re.compile(r\"(?P<first>\\w+) (?P<last>\\w+)\")\n",
    "Names=[]\n",
    "matches3=PatternName.finditer(fa)\n",
    "for match in matches3:\n",
    "    Names.append(match.group())\n",
    "print(Names)"
   ]
  },
  {
   "cell_type": "code",
   "execution_count": null,
   "id": "02289c18",
   "metadata": {},
   "outputs": [],
   "source": []
  },
  {
   "cell_type": "code",
   "execution_count": null,
   "id": "c3d7d359",
   "metadata": {},
   "outputs": [],
   "source": []
  }
 ],
 "metadata": {
  "kernelspec": {
   "display_name": "Python 3 (ipykernel)",
   "language": "python",
   "name": "python3"
  },
  "language_info": {
   "codemirror_mode": {
    "name": "ipython",
    "version": 3
   },
   "file_extension": ".py",
   "mimetype": "text/x-python",
   "name": "python",
   "nbconvert_exporter": "python",
   "pygments_lexer": "ipython3",
   "version": "3.9.12"
  },
  "toc": {
   "base_numbering": 1,
   "nav_menu": {},
   "number_sections": true,
   "sideBar": true,
   "skip_h1_title": false,
   "title_cell": "Table of Contents",
   "title_sidebar": "Contents",
   "toc_cell": false,
   "toc_position": {},
   "toc_section_display": true,
   "toc_window_display": false
  }
 },
 "nbformat": 4,
 "nbformat_minor": 5
}
